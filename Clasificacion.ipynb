{
 "cells": [
  {
   "cell_type": "code",
   "execution_count": 1,
   "id": "7d6a2fd8-9fe2-4285-b974-6dcadd49a235",
   "metadata": {},
   "outputs": [],
   "source": [
    "import tensorflow as tf\n",
    "import pandas as pd"
   ]
  },
  {
   "cell_type": "code",
   "execution_count": 2,
   "id": "91f3f21c-7cb5-4389-99a9-7ed1cfd53346",
   "metadata": {},
   "outputs": [],
   "source": [
    "CSV_COLUMN_NAMES = ['SepalLength', 'SepalWidth', 'PetalLength', 'PetalWidth', 'Species']\n",
    "SPECIES = ['Setosa', 'Versicolor', 'Virginica']"
   ]
  },
  {
   "cell_type": "code",
   "execution_count": 3,
   "id": "e99d99fa-1f83-4c54-af7c-a1af76eb995f",
   "metadata": {},
   "outputs": [
    {
     "name": "stdout",
     "output_type": "stream",
     "text": [
      "C:\\Users\\ACER\\.keras\\datasets\\iris_training.csv\n",
      "C:\\Users\\ACER\\.keras\\datasets\\iris_test.csv\n"
     ]
    }
   ],
   "source": [
    "train_path = tf.keras.utils.get_file(\n",
    "    \"iris_training.csv\", \"https://storage.googleapis.com/download.tensorflow.org/data/iris_training.csv\")\n",
    "test_path = tf.keras.utils.get_file(\n",
    "    \"iris_test.csv\", \"https://storage.googleapis.com/download.tensorflow.org/data/iris_test.csv\")\n",
    "print(train_path)\n",
    "print(test_path)"
   ]
  },
  {
   "cell_type": "code",
   "execution_count": 4,
   "id": "91a36399-d8c2-4627-8e29-3fca5396041c",
   "metadata": {},
   "outputs": [
    {
     "name": "stdout",
     "output_type": "stream",
     "text": [
      "     SepalLength  SepalWidth  PetalLength  PetalWidth  Species\n",
      "0            6.4         2.8          5.6         2.2        2\n",
      "1            5.0         2.3          3.3         1.0        1\n",
      "2            4.9         2.5          4.5         1.7        2\n",
      "3            4.9         3.1          1.5         0.1        0\n",
      "4            5.7         3.8          1.7         0.3        0\n",
      "..           ...         ...          ...         ...      ...\n",
      "115          5.5         2.6          4.4         1.2        1\n",
      "116          5.7         3.0          4.2         1.2        1\n",
      "117          4.4         2.9          1.4         0.2        0\n",
      "118          4.8         3.0          1.4         0.1        0\n",
      "119          5.5         2.4          3.7         1.0        1\n",
      "\n",
      "[120 rows x 5 columns]\n",
      "    SepalLength  SepalWidth  PetalLength  PetalWidth  Species\n",
      "0           5.9         3.0          4.2         1.5        1\n",
      "1           6.9         3.1          5.4         2.1        2\n",
      "2           5.1         3.3          1.7         0.5        0\n",
      "3           6.0         3.4          4.5         1.6        1\n",
      "4           5.5         2.5          4.0         1.3        1\n",
      "5           6.2         2.9          4.3         1.3        1\n",
      "6           5.5         4.2          1.4         0.2        0\n",
      "7           6.3         2.8          5.1         1.5        2\n",
      "8           5.6         3.0          4.1         1.3        1\n",
      "9           6.7         2.5          5.8         1.8        2\n",
      "10          7.1         3.0          5.9         2.1        2\n",
      "11          4.3         3.0          1.1         0.1        0\n",
      "12          5.6         2.8          4.9         2.0        2\n",
      "13          5.5         2.3          4.0         1.3        1\n",
      "14          6.0         2.2          4.0         1.0        1\n",
      "15          5.1         3.5          1.4         0.2        0\n",
      "16          5.7         2.6          3.5         1.0        1\n",
      "17          4.8         3.4          1.9         0.2        0\n",
      "18          5.1         3.4          1.5         0.2        0\n",
      "19          5.7         2.5          5.0         2.0        2\n",
      "20          5.4         3.4          1.7         0.2        0\n",
      "21          5.6         3.0          4.5         1.5        1\n",
      "22          6.3         2.9          5.6         1.8        2\n",
      "23          6.3         2.5          4.9         1.5        1\n",
      "24          5.8         2.7          3.9         1.2        1\n",
      "25          6.1         3.0          4.6         1.4        1\n",
      "26          5.2         4.1          1.5         0.1        0\n",
      "27          6.7         3.1          4.7         1.5        1\n",
      "28          6.7         3.3          5.7         2.5        2\n",
      "29          6.4         2.9          4.3         1.3        1\n"
     ]
    }
   ],
   "source": [
    "train=pd.read_csv(train_path,names= CSV_COLUMN_NAMES,header=0)\n",
    "test=pd.read_csv(test_path,names=CSV_COLUMN_NAMES,header=0)\n",
    "print(train)\n",
    "print(test)"
   ]
  },
  {
   "cell_type": "code",
   "execution_count": 5,
   "id": "d8101213-a183-42b4-8c3a-e923b7081bd7",
   "metadata": {},
   "outputs": [
    {
     "data": {
      "text/html": [
       "<div>\n",
       "<style scoped>\n",
       "    .dataframe tbody tr th:only-of-type {\n",
       "        vertical-align: middle;\n",
       "    }\n",
       "\n",
       "    .dataframe tbody tr th {\n",
       "        vertical-align: top;\n",
       "    }\n",
       "\n",
       "    .dataframe thead th {\n",
       "        text-align: right;\n",
       "    }\n",
       "</style>\n",
       "<table border=\"1\" class=\"dataframe\">\n",
       "  <thead>\n",
       "    <tr style=\"text-align: right;\">\n",
       "      <th></th>\n",
       "      <th>SepalLength</th>\n",
       "      <th>SepalWidth</th>\n",
       "      <th>PetalLength</th>\n",
       "      <th>PetalWidth</th>\n",
       "      <th>Species</th>\n",
       "    </tr>\n",
       "  </thead>\n",
       "  <tbody>\n",
       "    <tr>\n",
       "      <th>0</th>\n",
       "      <td>6.4</td>\n",
       "      <td>2.8</td>\n",
       "      <td>5.6</td>\n",
       "      <td>2.2</td>\n",
       "      <td>2</td>\n",
       "    </tr>\n",
       "    <tr>\n",
       "      <th>1</th>\n",
       "      <td>5.0</td>\n",
       "      <td>2.3</td>\n",
       "      <td>3.3</td>\n",
       "      <td>1.0</td>\n",
       "      <td>1</td>\n",
       "    </tr>\n",
       "    <tr>\n",
       "      <th>2</th>\n",
       "      <td>4.9</td>\n",
       "      <td>2.5</td>\n",
       "      <td>4.5</td>\n",
       "      <td>1.7</td>\n",
       "      <td>2</td>\n",
       "    </tr>\n",
       "    <tr>\n",
       "      <th>3</th>\n",
       "      <td>4.9</td>\n",
       "      <td>3.1</td>\n",
       "      <td>1.5</td>\n",
       "      <td>0.1</td>\n",
       "      <td>0</td>\n",
       "    </tr>\n",
       "    <tr>\n",
       "      <th>4</th>\n",
       "      <td>5.7</td>\n",
       "      <td>3.8</td>\n",
       "      <td>1.7</td>\n",
       "      <td>0.3</td>\n",
       "      <td>0</td>\n",
       "    </tr>\n",
       "  </tbody>\n",
       "</table>\n",
       "</div>"
      ],
      "text/plain": [
       "   SepalLength  SepalWidth  PetalLength  PetalWidth  Species\n",
       "0          6.4         2.8          5.6         2.2        2\n",
       "1          5.0         2.3          3.3         1.0        1\n",
       "2          4.9         2.5          4.5         1.7        2\n",
       "3          4.9         3.1          1.5         0.1        0\n",
       "4          5.7         3.8          1.7         0.3        0"
      ]
     },
     "execution_count": 5,
     "metadata": {},
     "output_type": "execute_result"
    }
   ],
   "source": [
    "train.head()"
   ]
  },
  {
   "cell_type": "code",
   "execution_count": 6,
   "id": "a3dbaddb-ba5c-4784-b7c6-e698e972f986",
   "metadata": {},
   "outputs": [
    {
     "data": {
      "text/html": [
       "<div>\n",
       "<style scoped>\n",
       "    .dataframe tbody tr th:only-of-type {\n",
       "        vertical-align: middle;\n",
       "    }\n",
       "\n",
       "    .dataframe tbody tr th {\n",
       "        vertical-align: top;\n",
       "    }\n",
       "\n",
       "    .dataframe thead th {\n",
       "        text-align: right;\n",
       "    }\n",
       "</style>\n",
       "<table border=\"1\" class=\"dataframe\">\n",
       "  <thead>\n",
       "    <tr style=\"text-align: right;\">\n",
       "      <th></th>\n",
       "      <th>SepalLength</th>\n",
       "      <th>SepalWidth</th>\n",
       "      <th>PetalLength</th>\n",
       "      <th>PetalWidth</th>\n",
       "    </tr>\n",
       "  </thead>\n",
       "  <tbody>\n",
       "    <tr>\n",
       "      <th>0</th>\n",
       "      <td>6.4</td>\n",
       "      <td>2.8</td>\n",
       "      <td>5.6</td>\n",
       "      <td>2.2</td>\n",
       "    </tr>\n",
       "    <tr>\n",
       "      <th>1</th>\n",
       "      <td>5.0</td>\n",
       "      <td>2.3</td>\n",
       "      <td>3.3</td>\n",
       "      <td>1.0</td>\n",
       "    </tr>\n",
       "    <tr>\n",
       "      <th>2</th>\n",
       "      <td>4.9</td>\n",
       "      <td>2.5</td>\n",
       "      <td>4.5</td>\n",
       "      <td>1.7</td>\n",
       "    </tr>\n",
       "    <tr>\n",
       "      <th>3</th>\n",
       "      <td>4.9</td>\n",
       "      <td>3.1</td>\n",
       "      <td>1.5</td>\n",
       "      <td>0.1</td>\n",
       "    </tr>\n",
       "    <tr>\n",
       "      <th>4</th>\n",
       "      <td>5.7</td>\n",
       "      <td>3.8</td>\n",
       "      <td>1.7</td>\n",
       "      <td>0.3</td>\n",
       "    </tr>\n",
       "  </tbody>\n",
       "</table>\n",
       "</div>"
      ],
      "text/plain": [
       "   SepalLength  SepalWidth  PetalLength  PetalWidth\n",
       "0          6.4         2.8          5.6         2.2\n",
       "1          5.0         2.3          3.3         1.0\n",
       "2          4.9         2.5          4.5         1.7\n",
       "3          4.9         3.1          1.5         0.1\n",
       "4          5.7         3.8          1.7         0.3"
      ]
     },
     "execution_count": 6,
     "metadata": {},
     "output_type": "execute_result"
    }
   ],
   "source": [
    "train_y=train.pop(\"Species\")\n",
    "test_y=test.pop(\"Species\")\n",
    "train.head()"
   ]
  },
  {
   "cell_type": "code",
   "execution_count": 7,
   "id": "cae8d139-65f9-4810-af14-026b303dc835",
   "metadata": {},
   "outputs": [
    {
     "data": {
      "text/plain": [
       "(120, 4)"
      ]
     },
     "execution_count": 7,
     "metadata": {},
     "output_type": "execute_result"
    }
   ],
   "source": [
    "train.shape"
   ]
  },
  {
   "cell_type": "code",
   "execution_count": 8,
   "id": "9df84f05-370c-47c9-8a9b-14c825bfa29b",
   "metadata": {},
   "outputs": [],
   "source": [
    "def input_fn(features, labels, training=True, batch_size=256):\n",
    "    \n",
    "    # Convert the inputs to a Dataset.\n",
    "    dataset = tf.data.Dataset.from_tensor_slices((dict(features), labels))\n",
    "\n",
    "    # Shuffle and repeat if you are in training mode.\n",
    "    if training:\n",
    "        dataset = dataset.shuffle(1000).repeat()\n",
    "\n",
    "    return dataset.batch(batch_size)"
   ]
  },
  {
   "cell_type": "code",
   "execution_count": 11,
   "id": "b1e1fb6e-8701-429f-800d-2e7226769c2f",
   "metadata": {},
   "outputs": [
    {
     "name": "stdout",
     "output_type": "stream",
     "text": [
      "[NumericColumn(key='SepalLength', shape=(1,), default_value=None, dtype=tf.float32, normalizer_fn=None), NumericColumn(key='SepalWidth', shape=(1,), default_value=None, dtype=tf.float32, normalizer_fn=None), NumericColumn(key='PetalLength', shape=(1,), default_value=None, dtype=tf.float32, normalizer_fn=None), NumericColumn(key='PetalWidth', shape=(1,), default_value=None, dtype=tf.float32, normalizer_fn=None)]\n"
     ]
    }
   ],
   "source": [
    "#Features columns describe como usar las entradas \n",
    "my_feature_columns=[]\n",
    "\n",
    "for key in train.keys():\n",
    "    my_feature_columns.append(tf.feature_column.numeric_column(key=key))\n",
    "print (my_features_columns)"
   ]
  },
  {
   "cell_type": "code",
   "execution_count": 12,
   "id": "561e5729-129d-4cb4-95ac-ed7808fa3b3f",
   "metadata": {},
   "outputs": [
    {
     "name": "stdout",
     "output_type": "stream",
     "text": [
      "INFO:tensorflow:Using default config.\n",
      "WARNING:tensorflow:Using temporary folder as model directory: C:\\Users\\ACER\\AppData\\Local\\Temp\\tmpit9coqjv\n",
      "INFO:tensorflow:Using config: {'_model_dir': 'C:\\\\Users\\\\ACER\\\\AppData\\\\Local\\\\Temp\\\\tmpit9coqjv', '_tf_random_seed': None, '_save_summary_steps': 100, '_save_checkpoints_steps': None, '_save_checkpoints_secs': 600, '_session_config': allow_soft_placement: true\n",
      "graph_options {\n",
      "  rewrite_options {\n",
      "    meta_optimizer_iterations: ONE\n",
      "  }\n",
      "}\n",
      ", '_keep_checkpoint_max': 5, '_keep_checkpoint_every_n_hours': 10000, '_log_step_count_steps': 100, '_train_distribute': None, '_device_fn': None, '_protocol': None, '_eval_distribute': None, '_experimental_distribute': None, '_experimental_max_worker_delay_secs': None, '_session_creation_timeout_secs': 7200, '_checkpoint_save_graph_def': True, '_service': None, '_cluster_spec': ClusterSpec({}), '_task_type': 'worker', '_task_id': 0, '_global_id_in_cluster': 0, '_master': '', '_evaluation_master': '', '_is_chief': True, '_num_ps_replicas': 0, '_num_worker_replicas': 1}\n"
     ]
    }
   ],
   "source": [
    "# Build a DNNClasiffier (Deep Learning) with 2 hidden layers with 30 and 10 hidden nodes each.\n",
    "# 3 clases (Una por cada especie)\n",
    "classifier = tf.estimator.DNNClassifier(feature_columns=my_feature_columns,hidden_units=[30, 10],n_classes=3)"
   ]
  },
  {
   "cell_type": "code",
   "execution_count": 13,
   "id": "6fae452e-f324-4c44-85a0-350ef0c2506a",
   "metadata": {},
   "outputs": [
    {
     "name": "stdout",
     "output_type": "stream",
     "text": [
      "WARNING:tensorflow:From C:\\Users\\ACER\\anaconda3\\lib\\site-packages\\tensorflow\\python\\training\\training_util.py:396: Variable.initialized_value (from tensorflow.python.ops.variables) is deprecated and will be removed in a future version.\n",
      "Instructions for updating:\n",
      "Use Variable.read_value. Variables in 2.X are initialized automatically both in eager and graph (inside tf.defun) contexts.\n",
      "INFO:tensorflow:Calling model_fn.\n",
      "WARNING:tensorflow:From C:\\Users\\ACER\\anaconda3\\lib\\site-packages\\keras\\optimizer_v2\\adagrad.py:83: calling Constant.__init__ (from tensorflow.python.ops.init_ops) with dtype is deprecated and will be removed in a future version.\n",
      "Instructions for updating:\n",
      "Call initializer instance with the dtype argument instead of passing it to the constructor\n",
      "INFO:tensorflow:Done calling model_fn.\n",
      "INFO:tensorflow:Create CheckpointSaverHook.\n",
      "INFO:tensorflow:Graph was finalized.\n",
      "INFO:tensorflow:Running local_init_op.\n",
      "INFO:tensorflow:Done running local_init_op.\n",
      "INFO:tensorflow:Calling checkpoint listeners before saving checkpoint 0...\n",
      "INFO:tensorflow:Saving checkpoints for 0 into C:\\Users\\ACER\\AppData\\Local\\Temp\\tmpit9coqjv\\model.ckpt.\n",
      "INFO:tensorflow:Calling checkpoint listeners after saving checkpoint 0...\n",
      "INFO:tensorflow:loss = 2.4703107, step = 0\n",
      "INFO:tensorflow:global_step/sec: 244.972\n",
      "INFO:tensorflow:loss = 1.5358781, step = 100 (0.414 sec)\n",
      "INFO:tensorflow:global_step/sec: 309.792\n",
      "INFO:tensorflow:loss = 1.2257981, step = 200 (0.318 sec)\n",
      "INFO:tensorflow:global_step/sec: 320.473\n",
      "INFO:tensorflow:loss = 1.0790856, step = 300 (0.313 sec)\n",
      "INFO:tensorflow:global_step/sec: 306.827\n",
      "INFO:tensorflow:loss = 0.94702363, step = 400 (0.327 sec)\n",
      "INFO:tensorflow:global_step/sec: 306.954\n",
      "INFO:tensorflow:loss = 0.88714707, step = 500 (0.324 sec)\n",
      "INFO:tensorflow:global_step/sec: 322.327\n",
      "INFO:tensorflow:loss = 0.8039668, step = 600 (0.305 sec)\n",
      "INFO:tensorflow:global_step/sec: 270.181\n",
      "INFO:tensorflow:loss = 0.75774145, step = 700 (0.383 sec)\n",
      "INFO:tensorflow:global_step/sec: 263.565\n",
      "INFO:tensorflow:loss = 0.7149832, step = 800 (0.378 sec)\n",
      "INFO:tensorflow:global_step/sec: 302.609\n",
      "INFO:tensorflow:loss = 0.6645233, step = 900 (0.326 sec)\n",
      "INFO:tensorflow:global_step/sec: 283.975\n",
      "INFO:tensorflow:loss = 0.6319362, step = 1000 (0.348 sec)\n",
      "INFO:tensorflow:global_step/sec: 304.81\n",
      "INFO:tensorflow:loss = 0.59985435, step = 1100 (0.331 sec)\n",
      "INFO:tensorflow:global_step/sec: 315.761\n",
      "INFO:tensorflow:loss = 0.5711161, step = 1200 (0.315 sec)\n",
      "INFO:tensorflow:global_step/sec: 317.037\n",
      "INFO:tensorflow:loss = 0.5503409, step = 1300 (0.321 sec)\n",
      "INFO:tensorflow:global_step/sec: 314.726\n",
      "INFO:tensorflow:loss = 0.53906494, step = 1400 (0.322 sec)\n",
      "INFO:tensorflow:global_step/sec: 208.215\n",
      "INFO:tensorflow:loss = 0.515589, step = 1500 (0.472 sec)\n",
      "INFO:tensorflow:global_step/sec: 299.156\n",
      "INFO:tensorflow:loss = 0.50089, step = 1600 (0.333 sec)\n",
      "INFO:tensorflow:global_step/sec: 318.363\n",
      "INFO:tensorflow:loss = 0.49623942, step = 1700 (0.316 sec)\n",
      "INFO:tensorflow:global_step/sec: 323.53\n",
      "INFO:tensorflow:loss = 0.48212093, step = 1800 (0.307 sec)\n",
      "INFO:tensorflow:global_step/sec: 320.348\n",
      "INFO:tensorflow:loss = 0.48237056, step = 1900 (0.314 sec)\n",
      "INFO:tensorflow:global_step/sec: 314.173\n",
      "INFO:tensorflow:loss = 0.46372163, step = 2000 (0.317 sec)\n",
      "INFO:tensorflow:global_step/sec: 331.325\n",
      "INFO:tensorflow:loss = 0.45809487, step = 2100 (0.306 sec)\n",
      "INFO:tensorflow:global_step/sec: 319.14\n",
      "INFO:tensorflow:loss = 0.4391334, step = 2200 (0.311 sec)\n",
      "INFO:tensorflow:global_step/sec: 315.824\n",
      "INFO:tensorflow:loss = 0.4476127, step = 2300 (0.318 sec)\n",
      "INFO:tensorflow:global_step/sec: 318.404\n",
      "INFO:tensorflow:loss = 0.43200275, step = 2400 (0.311 sec)\n",
      "INFO:tensorflow:global_step/sec: 316.955\n",
      "INFO:tensorflow:loss = 0.42328477, step = 2500 (0.319 sec)\n",
      "INFO:tensorflow:global_step/sec: 315.973\n",
      "INFO:tensorflow:loss = 0.42419618, step = 2600 (0.311 sec)\n",
      "INFO:tensorflow:global_step/sec: 314.963\n",
      "INFO:tensorflow:loss = 0.41225693, step = 2700 (0.322 sec)\n",
      "INFO:tensorflow:global_step/sec: 325.897\n",
      "INFO:tensorflow:loss = 0.41372332, step = 2800 (0.309 sec)\n",
      "INFO:tensorflow:global_step/sec: 313.858\n",
      "INFO:tensorflow:loss = 0.40281308, step = 2900 (0.315 sec)\n",
      "INFO:tensorflow:global_step/sec: 321.621\n",
      "INFO:tensorflow:loss = 0.3942115, step = 3000 (0.311 sec)\n",
      "INFO:tensorflow:global_step/sec: 301.617\n",
      "INFO:tensorflow:loss = 0.3961388, step = 3100 (0.332 sec)\n",
      "INFO:tensorflow:global_step/sec: 239.499\n",
      "INFO:tensorflow:loss = 0.38351488, step = 3200 (0.416 sec)\n",
      "INFO:tensorflow:global_step/sec: 311.616\n",
      "INFO:tensorflow:loss = 0.38324532, step = 3300 (0.321 sec)\n",
      "INFO:tensorflow:global_step/sec: 313.974\n",
      "INFO:tensorflow:loss = 0.37454367, step = 3400 (0.318 sec)\n",
      "INFO:tensorflow:global_step/sec: 275.628\n",
      "INFO:tensorflow:loss = 0.37385982, step = 3500 (0.384 sec)\n",
      "INFO:tensorflow:global_step/sec: 275.383\n",
      "INFO:tensorflow:loss = 0.36433753, step = 3600 (0.343 sec)\n",
      "INFO:tensorflow:global_step/sec: 280.361\n",
      "INFO:tensorflow:loss = 0.35974526, step = 3700 (0.361 sec)\n",
      "INFO:tensorflow:global_step/sec: 291.746\n",
      "INFO:tensorflow:loss = 0.35859236, step = 3800 (0.338 sec)\n",
      "INFO:tensorflow:global_step/sec: 298.295\n",
      "INFO:tensorflow:loss = 0.35235044, step = 3900 (0.335 sec)\n",
      "INFO:tensorflow:global_step/sec: 316.637\n",
      "INFO:tensorflow:loss = 0.343811, step = 4000 (0.316 sec)\n",
      "INFO:tensorflow:global_step/sec: 315.721\n",
      "INFO:tensorflow:loss = 0.347076, step = 4100 (0.317 sec)\n",
      "INFO:tensorflow:global_step/sec: 319.83\n",
      "INFO:tensorflow:loss = 0.33650634, step = 4200 (0.312 sec)\n",
      "INFO:tensorflow:global_step/sec: 307.857\n",
      "INFO:tensorflow:loss = 0.3349079, step = 4300 (0.320 sec)\n",
      "INFO:tensorflow:global_step/sec: 319.554\n",
      "INFO:tensorflow:loss = 0.33419493, step = 4400 (0.317 sec)\n",
      "INFO:tensorflow:global_step/sec: 313.374\n",
      "INFO:tensorflow:loss = 0.32369924, step = 4500 (0.322 sec)\n",
      "INFO:tensorflow:global_step/sec: 314.681\n",
      "INFO:tensorflow:loss = 0.32521695, step = 4600 (0.320 sec)\n",
      "INFO:tensorflow:global_step/sec: 254.833\n",
      "INFO:tensorflow:loss = 0.3198557, step = 4700 (0.391 sec)\n",
      "INFO:tensorflow:global_step/sec: 301.047\n",
      "INFO:tensorflow:loss = 0.31781632, step = 4800 (0.331 sec)\n",
      "INFO:tensorflow:global_step/sec: 313.804\n",
      "INFO:tensorflow:loss = 0.3109668, step = 4900 (0.319 sec)\n",
      "INFO:tensorflow:Calling checkpoint listeners before saving checkpoint 5000...\n",
      "INFO:tensorflow:Saving checkpoints for 5000 into C:\\Users\\ACER\\AppData\\Local\\Temp\\tmpit9coqjv\\model.ckpt.\n",
      "INFO:tensorflow:Calling checkpoint listeners after saving checkpoint 5000...\n",
      "INFO:tensorflow:Loss for final step: 0.30450773.\n"
     ]
    },
    {
     "data": {
      "text/plain": [
       "<tensorflow_estimator.python.estimator.canned.dnn.DNNClassifierV2 at 0x21ab97c6100>"
      ]
     },
     "execution_count": 13,
     "metadata": {},
     "output_type": "execute_result"
    }
   ],
   "source": [
    "# Train the Model.\n",
    "classifier.train(input_fn=lambda: input_fn(train, train_y, training=True),steps=5000)"
   ]
  },
  {
   "cell_type": "code",
   "execution_count": 14,
   "id": "7e800ef7-8da9-4c0c-b90f-3a1d78659eeb",
   "metadata": {},
   "outputs": [
    {
     "name": "stdout",
     "output_type": "stream",
     "text": [
      "INFO:tensorflow:Calling model_fn.\n",
      "INFO:tensorflow:Done calling model_fn.\n",
      "INFO:tensorflow:Starting evaluation at 2022-02-07T22:21:58\n",
      "INFO:tensorflow:Graph was finalized.\n",
      "INFO:tensorflow:Restoring parameters from C:\\Users\\ACER\\AppData\\Local\\Temp\\tmpit9coqjv\\model.ckpt-5000\n",
      "INFO:tensorflow:Running local_init_op.\n",
      "INFO:tensorflow:Done running local_init_op.\n",
      "INFO:tensorflow:Inference Time : 0.87165s\n",
      "INFO:tensorflow:Finished evaluation at 2022-02-07-22:21:59\n",
      "INFO:tensorflow:Saving dict for global step 5000: accuracy = 0.93333334, average_loss = 0.34253973, global_step = 5000, loss = 0.34253973\n",
      "INFO:tensorflow:Saving 'checkpoint_path' summary for global step 5000: C:\\Users\\ACER\\AppData\\Local\\Temp\\tmpit9coqjv\\model.ckpt-5000\n",
      "\n",
      "Test set accuracy: 0.933\n",
      "\n"
     ]
    }
   ],
   "source": [
    "eval_result = classifier.evaluate(\n",
    "    input_fn=lambda: input_fn(test, test_y, training=False))\n",
    "\n",
    "print('\\nTest set accuracy: {accuracy:0.3f}\\n'.format(**eval_result))"
   ]
  },
  {
   "cell_type": "code",
   "execution_count": 16,
   "id": "a53db5e0-d564-4367-9ca0-bbe85ffb28ce",
   "metadata": {},
   "outputs": [
    {
     "name": "stdout",
     "output_type": "stream",
     "text": [
      "Please type numeric values as prompted.\n"
     ]
    },
    {
     "name": "stdin",
     "output_type": "stream",
     "text": [
      "SepalLength: 1.4\n",
      "SepalWidth: 2.3\n",
      "PetalLength: 4.5\n",
      "PetalWidth: 4.7\n"
     ]
    },
    {
     "name": "stdout",
     "output_type": "stream",
     "text": [
      "INFO:tensorflow:Calling model_fn.\n",
      "INFO:tensorflow:Done calling model_fn.\n",
      "INFO:tensorflow:Graph was finalized.\n",
      "INFO:tensorflow:Restoring parameters from C:\\Users\\ACER\\AppData\\Local\\Temp\\tmpit9coqjv\\model.ckpt-5000\n",
      "INFO:tensorflow:Running local_init_op.\n",
      "INFO:tensorflow:Done running local_init_op.\n",
      "{'logits': array([-1.937163  ,  0.36314648,  4.9174576 ], dtype=float32), 'probabilities': array([0.0010425 , 0.01040134, 0.9885562 ], dtype=float32), 'class_ids': array([2], dtype=int64), 'classes': array([b'2'], dtype=object), 'all_class_ids': array([0, 1, 2]), 'all_classes': array([b'0', b'1', b'2'], dtype=object)}\n",
      "Prediction is\"Virginica\" (98.9%)\n"
     ]
    }
   ],
   "source": [
    "def input_fn(features, batch_size=256):\n",
    "    \"\"\"An input function for prediction.\"\"\"\n",
    "    # Convert the inputs to a Dataset without labels.\n",
    "    return tf.data.Dataset.from_tensor_slices(dict(features)).batch(batch_size)\n",
    "\n",
    "features = [\"SepalLength\",\"SepalWidth\",\"PetalLength\",\"PetalWidth\"]\n",
    "predict = {}\n",
    "\n",
    "print(\"Please type numeric values as prompted.\")\n",
    "for feature in features:\n",
    "    valid=True\n",
    "    while valid:\n",
    "        val= input(feature + \":\")\n",
    "        if not val.isdigit():valid=False\n",
    "    \n",
    "    predict[feature]=[float(val)]\n",
    "    \n",
    "predictions = classifier.predict(input_fn=lambda: input_fn(predict))\n",
    "for pred_dict in predictions:\n",
    "    print(pred_dict)\n",
    "    class_id = pred_dict[\"class_ids\"][0]\n",
    "    probability= pred_dict[\"probabilities\"][class_id]\n",
    "    \n",
    "    print('Prediction is\"{}\" ({:.1f}%)'.format (SPECIES[class_id],100*probability))"
   ]
  },
  {
   "cell_type": "code",
   "execution_count": null,
   "id": "902ae6c7-faa8-4516-8a89-37a261efeb51",
   "metadata": {},
   "outputs": [],
   "source": []
  }
 ],
 "metadata": {
  "kernelspec": {
   "display_name": "Python 3",
   "language": "python",
   "name": "python3"
  },
  "language_info": {
   "codemirror_mode": {
    "name": "ipython",
    "version": 3
   },
   "file_extension": ".py",
   "mimetype": "text/x-python",
   "name": "python",
   "nbconvert_exporter": "python",
   "pygments_lexer": "ipython3",
   "version": "3.8.8"
  }
 },
 "nbformat": 4,
 "nbformat_minor": 5
}
